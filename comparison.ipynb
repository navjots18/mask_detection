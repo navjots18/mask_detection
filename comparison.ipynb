{
 "cells": [
  {
   "cell_type": "code",
   "execution_count": 2,
   "metadata": {},
   "outputs": [],
   "source": [
    "import shutil\n",
    "import os\n",
    "import matplotlib.pyplot as plt\n",
    "import cv2\n",
    "from PIL import Image\n",
    "import numpy as np\n",
    "import matplotlib.pyplot as plt\n",
    "from scipy.stats import logistic\n",
    "import time\n",
    "from imutils.video import VideoStream\n",
    "import imutils"
   ]
  },
  {
   "cell_type": "code",
   "execution_count": 3,
   "metadata": {},
   "outputs": [
    {
     "data": {
      "text/plain": [
       "'C:\\\\Users\\\\Agam\\\\Desktop\\\\python_projects\\\\mask_ML'"
      ]
     },
     "execution_count": 3,
     "metadata": {},
     "output_type": "execute_result"
    }
   ],
   "source": [
    "os.getcwd()"
   ]
  },
  {
   "cell_type": "code",
   "execution_count": 4,
   "metadata": {},
   "outputs": [],
   "source": [
    "rootdir = 'C:\\\\Users\\\\Agam\\\\Desktop\\\\python_projects\\\\mask_ML\\\\dataset\\\\mask'\n",
    "\n",
    "c=0\n",
    "\n",
    "for subdir, dirs, files in os.walk(rootdir):\n",
    "    for dir in dirs:\n",
    "        for subdir1, dirs1, files1 in os.walk(rootdir +\"\\\\\" + dir):\n",
    "            for file in files1:\n",
    "                img = Image.open(\"dataset/mask/\"+dir+\"/\"+file).convert('L')\n",
    "                img = img.resize((40,40))\n",
    "                a = np.array(img)\n",
    "                if(c==0):\n",
    "                    n=a.reshape(1,-1)\n",
    "                else:    \n",
    "                    n= np.append(n,a.reshape(1,-1),axis=0)\n",
    "                c+=1\n",
    "y=np.ones((c,1))\n",
    "  "
   ]
  },
  {
   "cell_type": "code",
   "execution_count": 5,
   "metadata": {},
   "outputs": [
    {
     "data": {
      "text/plain": [
       "((2203, 1600), (2203, 1))"
      ]
     },
     "execution_count": 5,
     "metadata": {},
     "output_type": "execute_result"
    }
   ],
   "source": [
    "n.shape,y.shape"
   ]
  },
  {
   "cell_type": "code",
   "execution_count": 6,
   "metadata": {},
   "outputs": [],
   "source": [
    "rootdir = 'C:\\\\Users\\\\Agam\\\\Desktop\\\\python_projects\\\\mask_ML\\\\dataset\\\\no_mask'\n",
    "\n",
    "c=0\n",
    "\n",
    "for subdir, dirs, files in os.walk(rootdir):\n",
    "    for dir in dirs:\n",
    "        for subdir1, dirs1, files1 in os.walk(rootdir +\"\\\\\" + dir):\n",
    "            for file in files1:\n",
    "                img = Image.open(\"dataset/no_mask/\"+dir+\"/\"+file).convert('L')\n",
    "                img = img.resize((40,40))\n",
    "                a = np.array(img)\n",
    "                n= np.append(n,a.reshape(1,-1),axis=0)\n",
    "                c+=1\n",
    "y=np.append(y,np.zeros((c,1)))"
   ]
  },
  {
   "cell_type": "code",
   "execution_count": 7,
   "metadata": {},
   "outputs": [
    {
     "data": {
      "text/plain": [
       "((10161, 1600), (10161,))"
      ]
     },
     "execution_count": 7,
     "metadata": {},
     "output_type": "execute_result"
    }
   ],
   "source": [
    "\n",
    "n.shape, y.shape"
   ]
  },
  {
   "cell_type": "code",
   "execution_count": 8,
   "metadata": {},
   "outputs": [
    {
     "data": {
      "text/plain": [
       "<matplotlib.image.AxesImage at 0x1a74857aeb0>"
      ]
     },
     "execution_count": 8,
     "metadata": {},
     "output_type": "execute_result"
    },
    {
     "data": {
      "image/png": "[encoded data removed]",
      "text/plain": [
       "<Figure size 432x288 with 1 Axes>"
      ]
     },
     "metadata": {
      "needs_background": "light"
     },
     "output_type": "display_data"
    }
   ],
   "source": [
    "plt.imshow(n[2294].reshape(40,40))"
   ]
  },
  {
   "cell_type": "code",
   "execution_count": 9,
   "metadata": {},
   "outputs": [],
   "source": [
    "class LogisticRegression:\n",
    "    def __init__(self, lr=0.01, num_iter=100, fit_intercept=True, verbose=False):\n",
    "        self.lr = lr\n",
    "        self.num_iter = num_iter\n",
    "        self.fit_intercept = fit_intercept\n",
    "        self.verbose = verbose\n",
    "    \n",
    "    def __add_intercept(self, X):\n",
    "        intercept = np.ones((X.shape[0], 1))\n",
    "        return np.concatenate((intercept, X), axis=1)\n",
    "    \n",
    "    def __sigmoid(self, z):\n",
    "        return 1 / (1 + np.exp(-z))\n",
    "    def __loss(self, h, y):\n",
    "        return (-y * np.log(h) - (1 - y) * np.log(1 - h)).mean()\n",
    "    \n",
    "    def fit(self, X, y):\n",
    "        if self.fit_intercept:\n",
    "            X = self.__add_intercept(X)\n",
    "        \n",
    "        self.theta = np.zeros(X.shape[1])\n",
    "        \n",
    "        for i in range(self.num_iter):\n",
    "            z = np.dot(X, self.theta)\n",
    "            h = self.__sigmoid(z)\n",
    "            gradient = np.dot(X.T, (h - y)) / y.size\n",
    "            self.theta -= self.lr * gradient\n",
    "            \n",
    "            z = np.dot(X, self.theta)\n",
    "            h = self.__sigmoid(z)\n",
    "            loss = self.__loss(h, y)\n",
    "                \n",
    "            if(self.verbose ==True and i % 10000 == 0):\n",
    "                print(f'loss: {loss} \\t')\n",
    "    \n",
    "    def predict_prob(self, X):\n",
    "        if self.fit_intercept:\n",
    "            X = self.__add_intercept(X)\n",
    "    \n",
    "        return self.__sigmoid(np.dot(X, self.theta))\n",
    "    \n",
    "    def predict(self, X):\n",
    "        return self.predict_prob(X).round()\n",
    "    def score(self, X, y):\n",
    "        yp = self.predict(X)\n",
    "        return np.mean(yp == y)"
   ]
  },
  {
   "cell_type": "code",
   "execution_count": 10,
   "metadata": {},
   "outputs": [],
   "source": [
    "class KNN:\n",
    "    def __init__(self, n_neighbours=2):\n",
    "        self.n_neighbours = n_neighbours\n",
    "        \n",
    "    def fit(self, X, y):\n",
    "        self._X = (X - X.mean()) / X.std() # standardisation\n",
    "        self._y = y\n",
    "    \n",
    "    \n",
    "    def predict_point(self, point):\n",
    "        \n",
    "        list_dist = []\n",
    "        \n",
    "        \n",
    "        for x_point, y_point in zip(self._X, self._y):\n",
    "            dist_point = ((point - x_point) ** 2).sum()\n",
    "            list_dist.append([dist_point, y_point])\n",
    "        \n",
    "        \n",
    "        sorted_dist = sorted(list_dist)\n",
    "        top_k = sorted_dist[:self.n_neighbours]\n",
    "        \n",
    "        \n",
    "        items, counts = np.unique(np.array(top_k)[:, 1], return_counts=True)\n",
    "        ans = items[np.argmax(counts)]\n",
    "        return ans\n",
    "            \n",
    "    \n",
    "    def predict(self, X):\n",
    "        results = []\n",
    "        X = (X - X.mean()) / X.std() \n",
    "        for point in X:\n",
    "            results.append(self.predict_point(point))\n",
    "        return np.array(results, dtype=int)\n",
    "    \n",
    "    def score(self, X, y):\n",
    "        return sum(self.predict(X) == y) / len(y)"
   ]
  },
  {
   "cell_type": "code",
   "execution_count": 11,
   "metadata": {},
   "outputs": [],
   "source": [
    "class SVM:\n",
    "\n",
    "    def __init__ (self, learning_rate=0.001, lambda_param=0.01, n_iters=100):\n",
    "        self.lr = learning_rate\n",
    "        self.lambda_param = lambda_param\n",
    "        self.n_iters = n_iters\n",
    "        self.w = None\n",
    "        self.b = None\n",
    "\n",
    "\n",
    "    def fit(self, X, y):\n",
    "        n_samples, n_features = X.shape\n",
    "        \n",
    "        y_ = np.where(y <= 0, -1, 1)\n",
    "        \n",
    "        self.w = np.zeros(n_features)\n",
    "        self.b = 0\n",
    "\n",
    "        for _ in range(self.n_iters):\n",
    "            for idx, x_i in enumerate(X):\n",
    "                condition = y_[idx] * (np.dot(x_i, self.w) - self.b) >= 1\n",
    "                if condition:\n",
    "                    self.w -= self.lr * (2 * self.lambda_param * self.w)\n",
    "                else:\n",
    "                    self.w -= self.lr * (2 * self.lambda_param * self.w - np.dot(x_i, y_[idx]))\n",
    "                    self.b -= self.lr * y_[idx]\n",
    "\n",
    "\n",
    "    def predict(self, X):\n",
    "        approx = np.dot(X, self.w) - self.b\n",
    "        \n",
    "        for i in range(approx.size):\n",
    "            if approx[i] > 0:\n",
    "                approx[i]=1\n",
    "            else:\n",
    "                approx[i]=0\n",
    "        \n",
    "        return approx\n",
    "    \n",
    "    def score(self, X, y):\n",
    "        yp = self.predict(X)\n",
    "        return np.mean(yp == y)"
   ]
  },
  {
   "cell_type": "code",
   "execution_count": 12,
   "metadata": {},
   "outputs": [],
   "source": [
    "model_LR = LogisticRegression()"
   ]
  },
  {
   "cell_type": "code",
   "execution_count": 13,
   "metadata": {},
   "outputs": [],
   "source": [
    "model_KNN = KNN()"
   ]
  },
  {
   "cell_type": "code",
   "execution_count": 14,
   "metadata": {},
   "outputs": [],
   "source": [
    "model_SVM = SVM()"
   ]
  },
  {
   "cell_type": "code",
   "execution_count": 15,
   "metadata": {},
   "outputs": [],
   "source": [
    "from sklearn.model_selection import train_test_split"
   ]
  },
  {
   "cell_type": "code",
   "execution_count": 58,
   "metadata": {},
   "outputs": [],
   "source": [
    "X_train, X_test, y_train, y_test = train_test_split(n, y, test_size=0.30, random_state=32)"
   ]
  },
  {
   "cell_type": "code",
   "execution_count": 59,
   "metadata": {},
   "outputs": [
    {
     "name": "stderr",
     "output_type": "stream",
     "text": [
      "<ipython-input-9-0744fc95db0b>:13: RuntimeWarning: overflow encountered in exp\n",
      "  return 1 / (1 + np.exp(-z))\n",
      "<ipython-input-9-0744fc95db0b>:15: RuntimeWarning: divide by zero encountered in log\n",
      "  return (-y * np.log(h) - (1 - y) * np.log(1 - h)).mean()\n",
      "<ipython-input-9-0744fc95db0b>:15: RuntimeWarning: invalid value encountered in multiply\n",
      "  return (-y * np.log(h) - (1 - y) * np.log(1 - h)).mean()\n"
     ]
    }
   ],
   "source": [
    "start = time.process_time()\n",
    "model_LR.fit(X_train,y_train)\n",
    "end_LR = time.process_time() - start\n",
    "score_LR = model_LR.score(X_test,y_test)"
   ]
  },
  {
   "cell_type": "code",
   "execution_count": 60,
   "metadata": {},
   "outputs": [
    {
     "data": {
      "text/plain": [
       "0.8340439488356838"
      ]
     },
     "execution_count": 60,
     "metadata": {},
     "output_type": "execute_result"
    }
   ],
   "source": [
    "score_LR"
   ]
  },
  {
   "cell_type": "code",
   "execution_count": 61,
   "metadata": {},
   "outputs": [],
   "source": [
    "start = time.process_time()\n",
    "model_SVM.fit(X_train,y_train)\n",
    "score_SVM = model_SVM.score(X_test,y_test)\n",
    "end_SVM = time.process_time() - start"
   ]
  },
  {
   "cell_type": "code",
   "execution_count": 62,
   "metadata": {},
   "outputs": [
    {
     "data": {
      "text/plain": [
       "0.8547064611347983"
      ]
     },
     "execution_count": 62,
     "metadata": {},
     "output_type": "execute_result"
    }
   ],
   "source": [
    "score_SVM"
   ]
  },
  {
   "cell_type": "code",
   "execution_count": 63,
   "metadata": {},
   "outputs": [],
   "source": [
    "start = time.process_time()\n",
    "model_KNN.fit(X_train,y_train)\n",
    "score_KNN = model_KNN.score(X_test,y_test)\n",
    "end_KNN = time.process_time() - start"
   ]
  },
  {
   "cell_type": "code",
   "execution_count": 64,
   "metadata": {},
   "outputs": [
    {
     "data": {
      "text/plain": [
       "0.9025910134470319"
      ]
     },
     "execution_count": 64,
     "metadata": {},
     "output_type": "execute_result"
    }
   ],
   "source": [
    "score_KNN"
   ]
  },
  {
   "cell_type": "code",
   "execution_count": 65,
   "metadata": {},
   "outputs": [],
   "source": [
    "time_data = {'LR':end_LR,'KNN':end_KNN,'SVM':end_SVM}"
   ]
  },
  {
   "cell_type": "code",
   "execution_count": 66,
   "metadata": {},
   "outputs": [],
   "source": [
    "algo = list(time_data.keys()) \n",
    "values = list(time_data.values()) "
   ]
  },
  {
   "cell_type": "code",
   "execution_count": 67,
   "metadata": {},
   "outputs": [
    {
     "data": {
      "image/png": "[encoded data removed]",
      "text/plain": [
       "<Figure size 720x360 with 1 Axes>"
      ]
     },
     "metadata": {
      "needs_background": "light"
     },
     "output_type": "display_data"
    }
   ],
   "source": [
    "fig = plt.figure(figsize = (10, 5)) \n",
    "plt.bar(algo, values, color ='red',  \n",
    "        width = 0.2) \n",
    "  \n",
    "plt.xlabel(\"algos\") \n",
    "plt.ylabel(\"Time taken in seconds\") \n",
    "plt.title(\"efficiency\") \n",
    "plt.show() "
   ]
  },
  {
   "cell_type": "code",
   "execution_count": 68,
   "metadata": {},
   "outputs": [],
   "source": [
    "score_data = {'LR':score_LR*100,'KNN':score_KNN*100,'SVM':score_SVM*100}"
   ]
  },
  {
   "cell_type": "code",
   "execution_count": 69,
   "metadata": {},
   "outputs": [
    {
     "data": {
      "image/png": "[encoded data removed]",
      "text/plain": [
       "<Figure size 720x360 with 1 Axes>"
      ]
     },
     "metadata": {
      "needs_background": "light"
     },
     "output_type": "display_data"
    }
   ],
   "source": [
    "algo = list(score_data.keys()) \n",
    "values = list(score_data.values())\n",
    "fig = plt.figure(figsize = (10, 5)) \n",
    "plt.bar(algo, values, color ='green',  \n",
    "        width = 0.2) \n",
    "  \n",
    "plt.xlabel(\"algos\") \n",
    "plt.ylabel(\"accuracy in %\") \n",
    "plt.title(\"accuracy\") \n",
    "plt.show() "
   ]
  },
  {
   "cell_type": "code",
   "execution_count": null,
   "metadata": {},
   "outputs": [],
   "source": [
    "prototxtPath = r\"face_detector\\deploy.prototxt.txt\"\n",
    "weightsPath = r\"face_detector\\res10_300x300_ssd_iter_140000.caffemodel\"\n",
    "faceNet = cv2.dnn.readNet(prototxtPath, weightsPath)\n",
    "vs = VideoStream(src=0).start()\n",
    "while True:\n",
    "    frame = vs.read()\n",
    "    #frame = imutils.resize(frame, width=400)\n",
    "    pil = np.array(frame)\n",
    "    (h, w) = frame.shape[:2]\n",
    "    blob = cv2.dnn.blobFromImage(frame, 1.0, (224, 224),(104.0, 177.0, 123.0))\n",
    "\n",
    "\n",
    "    faceNet.setInput(blob)\n",
    "    detections = faceNet.forward()\n",
    "\n",
    "\n",
    "    faces = []\n",
    "    locs = []\n",
    "    preds = []\n",
    "    for i in range(0, detections.shape[2]):\n",
    "        confidence = detections[0, 0, i, 2]\n",
    "        if confidence > 0.15:\n",
    "            box = detections[0, 0, i, 3:7] * np.array([w, h, w, h])\n",
    "            (startX, startY, endX, endY) = box.astype(\"int\")\n",
    "            (startX, startY) = (max(0, startX), max(0, startY))\n",
    "            (endX, endY) = (min(w - 1, endX), min(h - 1, endY))\n",
    "            #cv2.rectangle(frame, (startX, startY), (endX, endY), (255,0,0), 2)\n",
    "            if(startX<h and endX<h and startY < w and endY<w):\n",
    "                detect = Image.fromarray(pil[startY:endY,startX:endX,], 'RGB')\n",
    "                detect = detect.convert('L')\n",
    "                detect = detect.resize((40,40))\n",
    "                detectArray = np.array(detect).reshape(1,-1)\n",
    "                if model_SVM.predict(detectArray)[0] == 0:\n",
    "                    cv2.rectangle(frame, (startX, startY), (endX, endY), (255,0,0), 2)\n",
    "                    cv2.putText(frame, \"No Mask\", (startX, startY - 10),cv2.FONT_HERSHEY_SIMPLEX, 0.45, (255,0,0), 2)\n",
    "                else :\n",
    "                    cv2.rectangle(frame, (startX, startY), (endX, endY), (0,255,0), 2)\n",
    "                    cv2.putText(frame, \"Mask\", (startX, startY - 10),cv2.FONT_HERSHEY_SIMPLEX, 0.45, (0,255,0), 2)\n",
    "    \n",
    "    cv2.imshow(\"Frame\", frame)\n",
    "    key = cv2.waitKey(1) & 0xFF\n",
    "\n",
    "    # if the `q` key was pressed, break from the loop\n",
    "    if key == ord(\"q\"):\n",
    "        break"
   ]
  },
  {
   "cell_type": "code",
   "execution_count": null,
   "metadata": {},
   "outputs": [],
   "source": []
  }
 ],
 "metadata": {
  "kernelspec": {
   "display_name": "Python 3",
   "language": "python",
   "name": "python3"
  },
  "language_info": {
   "codemirror_mode": {
    "name": "ipython",
    "version": 3
   },
   "file_extension": ".py",
   "mimetype": "text/x-python",
   "name": "python",
   "nbconvert_exporter": "python",
   "pygments_lexer": "ipython3",
   "version": "3.8.3"
  }
 },
 "nbformat": 4,
 "nbformat_minor": 4
}
